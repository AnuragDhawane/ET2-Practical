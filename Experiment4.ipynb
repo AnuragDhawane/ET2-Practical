{
 "cells": [
  {
   "cell_type": "code",
   "execution_count": 1,
   "id": "4ee6040c-f6e5-4bc0-a58f-c8b3591e9b25",
   "metadata": {},
   "outputs": [],
   "source": [
    "#Experiment  no. :4"
   ]
  },
  {
   "cell_type": "code",
   "execution_count": 3,
   "id": "5ae98b06-0876-4aef-b865-0351a96af6ca",
   "metadata": {},
   "outputs": [],
   "source": [
    "#Name : Anurag Deochand Dhawane\n",
    "#Roll no. : 29\n",
    "#Sec: 3A\n",
    "#Sub : ET 2 Lab"
   ]
  },
  {
   "cell_type": "code",
   "execution_count": 5,
   "id": "3be98a5b-018c-4abc-8cdf-4dab292fd985",
   "metadata": {},
   "outputs": [],
   "source": [
    "#Aim:To perform and analysis of Z Test parametric Test"
   ]
  },
  {
   "cell_type": "code",
   "execution_count": 7,
   "id": "933f03a7-a6f8-4dc8-ab68-0465be911ae6",
   "metadata": {},
   "outputs": [
    {
     "name": "stdout",
     "output_type": "stream",
     "text": [
      "1.8388410294011585e-85\n",
      "We can reject the null hypothesis\n"
     ]
    }
   ],
   "source": [
    "# Python program to implement One Sample Z-Test   \n",
    "  \n",
    "# Importing the required libraries  \n",
    "import pandas as pd  \n",
    "from scipy import stats  \n",
    "from statsmodels.stats import weightstats as stests  \n",
    "               \n",
    "    \n",
    "    \n",
    "    \n",
    "    \n",
    "    \n",
    "# Creating a dataset  \n",
    "data = [89, 93, 95, 93, 97, 98, 96, 99, 93, 97,  \n",
    "        110, 104, 119, 105, 104, 110, 110, 112, 115, 114,26,65,76,87,98,23,45,67,89,90,87,76,65,54,43,32,21,67,78,79]  \n",
    "  \n",
    "# Performing the z-test  \n",
    "z_test ,p_val = stests.ztest(data)  \n",
    "print(p_val)  \n",
    "  \n",
    "# taking the threshold value as 0.05 or 5%  \n",
    "if p_val < 0.05:  \n",
    "    print(\"We can reject the null hypothesis\")  \n",
    "else:  \n",
    "    print(\"We can accept the null hypothesis\") "
   ]
  },
  {
   "cell_type": "code",
   "execution_count": null,
   "id": "fb07ef91-0b4a-4b68-94a9-cf9e8d4dba38",
   "metadata": {},
   "outputs": [],
   "source": []
  }
 ],
 "metadata": {
  "kernelspec": {
   "display_name": "Python 3 (ipykernel)",
   "language": "python",
   "name": "python3"
  },
  "language_info": {
   "codemirror_mode": {
    "name": "ipython",
    "version": 3
   },
   "file_extension": ".py",
   "mimetype": "text/x-python",
   "name": "python",
   "nbconvert_exporter": "python",
   "pygments_lexer": "ipython3",
   "version": "3.12.4"
  }
 },
 "nbformat": 4,
 "nbformat_minor": 5
}
