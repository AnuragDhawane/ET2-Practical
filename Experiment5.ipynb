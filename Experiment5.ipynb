{
 "cells": [
  {
   "cell_type": "code",
   "execution_count": 1,
   "id": "90fbb3c7-6a03-4a54-9336-b3e3c4c14745",
   "metadata": {},
   "outputs": [],
   "source": [
    "#Experiment  no. :5"
   ]
  },
  {
   "cell_type": "code",
   "execution_count": 3,
   "id": "f342035e-20cb-4293-8aed-e54b31f688b9",
   "metadata": {},
   "outputs": [],
   "source": [
    "#Name : Anurag Deochand Dhawane\n",
    "#Roll no. : 29\n",
    "#Sec: 3A\n",
    "#Sub : ET 2 Lab"
   ]
  },
  {
   "cell_type": "code",
   "execution_count": 5,
   "id": "b01615e1-90d6-4f9b-b4e8-20e6464bd479",
   "metadata": {},
   "outputs": [],
   "source": [
    "#Aim:To perform and analysis of T Test parametric Test"
   ]
  },
  {
   "cell_type": "markdown",
   "id": "389e2b3a-b236-43e3-869d-6c89a0f9202e",
   "metadata": {},
   "source": [
    "# T test"
   ]
  },
  {
   "cell_type": "markdown",
   "id": "55ee7588-48fb-41e0-82b9-727054840c8b",
   "metadata": {},
   "source": [
    "T Test\n",
    "A t-test is a type of inferential statistic which is used to determine if there is a significant difference between the means of two groups which may be related in certain features"
   ]
  },
  {
   "cell_type": "code",
   "execution_count": 9,
   "id": "008bf627-ad99-40e2-b035-83cf84491d73",
   "metadata": {},
   "outputs": [],
   "source": [
    "ages=[10,20,35,50,28,40,55,18,16,55,30,25,43,18,30,28,14,24,16,17,32,35,26,27,65,18,43,23,21,20,19,70]"
   ]
  },
  {
   "cell_type": "code",
   "execution_count": 11,
   "id": "0170586d-e0c9-4dd0-8393-8dc29b3cf0e4",
   "metadata": {},
   "outputs": [
    {
     "data": {
      "text/plain": [
       "32"
      ]
     },
     "execution_count": 11,
     "metadata": {},
     "output_type": "execute_result"
    }
   ],
   "source": [
    "len(ages)"
   ]
  },
  {
   "cell_type": "code",
   "execution_count": 13,
   "id": "e5d6d6ba-7b52-406e-9ac0-49fe20e85fc3",
   "metadata": {},
   "outputs": [
    {
     "name": "stdout",
     "output_type": "stream",
     "text": [
      "30.34375\n"
     ]
    }
   ],
   "source": [
    "import numpy as np\n",
    "ages_mean=np.mean(ages)\n",
    "print(ages_mean)"
   ]
  },
  {
   "cell_type": "code",
   "execution_count": 15,
   "id": "48dbafeb-727d-4fc3-8520-2688ff44e5a1",
   "metadata": {},
   "outputs": [],
   "source": [
    "## Lets take sample\n",
    "\n",
    "sample_size=10\n",
    "age_sample=np.random.choice(ages,sample_size)"
   ]
  },
  {
   "cell_type": "code",
   "execution_count": 17,
   "id": "ac1d080f-b5b3-4b71-b852-2ae031c99755",
   "metadata": {},
   "outputs": [
    {
     "data": {
      "text/plain": [
       "array([16, 55, 18, 20, 16, 14, 30, 30, 20, 25])"
      ]
     },
     "execution_count": 17,
     "metadata": {},
     "output_type": "execute_result"
    }
   ],
   "source": [
    "age_sample"
   ]
  },
  {
   "cell_type": "code",
   "execution_count": 19,
   "id": "aa346d69-828d-4078-a5d0-cffa107d5483",
   "metadata": {},
   "outputs": [],
   "source": [
    "from scipy.stats import ttest_1samp"
   ]
  },
  {
   "cell_type": "code",
   "execution_count": 23,
   "id": "c0c1d9ab-d310-4ab9-9f8a-fd740b31e06b",
   "metadata": {},
   "outputs": [],
   "source": [
    "ttest,p_value=ttest_1samp(age_sample,30)"
   ]
  },
  {
   "cell_type": "code",
   "execution_count": 25,
   "id": "b833fde3-c3b6-48bd-9e3c-fabe74a3f99d",
   "metadata": {},
   "outputs": [
    {
     "name": "stdout",
     "output_type": "stream",
     "text": [
      "0.17893601987738675\n"
     ]
    }
   ],
   "source": [
    "print(p_value)"
   ]
  },
  {
   "cell_type": "code",
   "execution_count": 27,
   "id": "47bcbd1b-d4fe-43cd-b957-9245a87ea01c",
   "metadata": {},
   "outputs": [
    {
     "name": "stdout",
     "output_type": "stream",
     "text": [
      "we are accepting null hypothesis\n"
     ]
    }
   ],
   "source": [
    "if p_value < 0.05:    # alpha value is 0.05 or 5%\n",
    "    print(\" we are rejecting null hypothesis\")\n",
    "else:\n",
    "    print(\"we are accepting null hypothesis\")"
   ]
  },
  {
   "cell_type": "code",
   "execution_count": null,
   "id": "91c0f639-d062-479c-9a0b-8133a49953ef",
   "metadata": {},
   "outputs": [],
   "source": []
  }
 ],
 "metadata": {
  "kernelspec": {
   "display_name": "Python 3 (ipykernel)",
   "language": "python",
   "name": "python3"
  },
  "language_info": {
   "codemirror_mode": {
    "name": "ipython",
    "version": 3
   },
   "file_extension": ".py",
   "mimetype": "text/x-python",
   "name": "python",
   "nbconvert_exporter": "python",
   "pygments_lexer": "ipython3",
   "version": "3.12.4"
  }
 },
 "nbformat": 4,
 "nbformat_minor": 5
}
